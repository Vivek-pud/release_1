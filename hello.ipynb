{
 "cells": [
  {
   "cell_type": "code",
   "execution_count": 2,
   "id": "ac3c7425",
   "metadata": {},
   "outputs": [
    {
     "name": "stdout",
     "output_type": "stream",
     "text": [
      "Vivek & Madhu\n"
     ]
    }
   ],
   "source": [
    "print(\"Vivek & Madhu\")"
   ]
  },
  {
   "cell_type": "code",
   "execution_count": 3,
   "id": "9ffedb88",
   "metadata": {},
   "outputs": [
    {
     "name": "stdout",
     "output_type": "stream",
     "text": [
      "set()\n"
     ]
    },
    {
     "data": {
      "text/plain": [
       "set"
      ]
     },
     "execution_count": 3,
     "metadata": {},
     "output_type": "execute_result"
    }
   ],
   "source": [
    "set_var = set()\n",
    "print(set_var)\n",
    "type(set_var)"
   ]
  },
  {
   "cell_type": "code",
   "execution_count": 10,
   "id": "c3282ea8",
   "metadata": {},
   "outputs": [
    {
     "name": "stdout",
     "output_type": "stream",
     "text": [
      "{'Manvik', 'Vivek', 'Madhu'}\n"
     ]
    }
   ],
   "source": [
    "set_var_1 = {\"Madhu\",\"Vivek\",\"Manvik\"}\n",
    "print(set_var_1)"
   ]
  },
  {
   "cell_type": "code",
   "execution_count": 11,
   "id": "33308f20",
   "metadata": {},
   "outputs": [
    {
     "name": "stdout",
     "output_type": "stream",
     "text": [
      "{'Manvik', 'Hulk', 'Vivek', 'Madhu'}\n"
     ]
    }
   ],
   "source": [
    "set_var_1.add(\"Hulk\")\n",
    "print(set_var_1)"
   ]
  },
  {
   "cell_type": "code",
   "execution_count": 12,
   "id": "8e77883f",
   "metadata": {},
   "outputs": [],
   "source": [
    "set_var_2 = {\"Madhu\",\"Vivek\",\"Manvik\"}"
   ]
  },
  {
   "cell_type": "code",
   "execution_count": 13,
   "id": "b24c77a9",
   "metadata": {},
   "outputs": [
    {
     "data": {
      "text/plain": [
       "{'Hulk'}"
      ]
     },
     "execution_count": 13,
     "metadata": {},
     "output_type": "execute_result"
    }
   ],
   "source": [
    "set_var_1.difference(set_var_2)"
   ]
  },
  {
   "cell_type": "code",
   "execution_count": 21,
   "id": "7ed881e5",
   "metadata": {},
   "outputs": [
    {
     "name": "stdout",
     "output_type": "stream",
     "text": [
      "{'name': 'Vivek', 'age': 25}\n"
     ]
    }
   ],
   "source": [
    "my_dict = {\n",
    "    \"name\": \"Vivek\",\n",
    "    \"age\": 25,}\n",
    "type(my_dict)\n",
    "print(my_dict)"
   ]
  },
  {
   "cell_type": "code",
   "execution_count": null,
   "id": "d1b8f225",
   "metadata": {},
   "outputs": [
    {
     "name": "stdout",
     "output_type": "stream",
     "text": [
      "name\n",
      "Vivek\n",
      "age\n",
      "25\n"
     ]
    }
   ],
   "source": []
  }
 ],
 "metadata": {
  "kernelspec": {
   "display_name": "example",
   "language": "python",
   "name": "python3"
  },
  "language_info": {
   "codemirror_mode": {
    "name": "ipython",
    "version": 3
   },
   "file_extension": ".py",
   "mimetype": "text/x-python",
   "name": "python",
   "nbconvert_exporter": "python",
   "pygments_lexer": "ipython3",
   "version": "3.9.21"
  }
 },
 "nbformat": 4,
 "nbformat_minor": 5
}
