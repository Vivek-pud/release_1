{
 "cells": [
  {
   "cell_type": "code",
   "execution_count": 2,
   "id": "ac3c7425",
   "metadata": {},
   "outputs": [
    {
     "name": "stdout",
     "output_type": "stream",
     "text": [
      "Vivek & Madhu\n"
     ]
    }
   ],
   "source": [
    "print(\"Vivek & Madhu\")"
   ]
  },
  {
   "cell_type": "code",
   "execution_count": null,
   "id": "9ffedb88",
   "metadata": {},
   "outputs": [],
   "source": [
    "for i in range(10):\n",
    "    print (i)"
   ]
  }
 ],
 "metadata": {
  "kernelspec": {
   "display_name": "agentic_2_base",
   "language": "python",
   "name": "python3"
  },
  "language_info": {
   "codemirror_mode": {
    "name": "ipython",
    "version": 3
   },
   "file_extension": ".py",
   "mimetype": "text/x-python",
   "name": "python",
   "nbconvert_exporter": "python",
   "pygments_lexer": "ipython3",
   "version": "3.11.12"
  }
 },
 "nbformat": 4,
 "nbformat_minor": 5
}
